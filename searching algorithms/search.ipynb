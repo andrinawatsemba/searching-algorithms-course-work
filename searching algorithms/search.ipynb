{
 "cells": [
  {
   "cell_type": "markdown",
   "metadata": {},
   "source": [
    "# B30493\n",
    "# ANDRINA WATSEMBA"
   ]
  },
  {
   "cell_type": "markdown",
   "metadata": {},
   "source": [
    "## Searching algorithms\n",
    "\n",
    " These are essential tools in computer science used to locate specific items within a collection of data.\n",
    " These algorithms are designed to efficiently go through data structures in order to find the desired information, making them fundamental in various applications such as databases, web search engines, and more."
   ]
  },
  {
   "cell_type": "markdown",
   "metadata": {},
   "source": [
    "## Linear Search Algorithm\n",
    "\n",
    "In Linear Search which is also known sequential search, we iterate over all the elements of the array and check if it the current element is equal to the target element. If we find any element to be equal to the target element, then return the index of the current element. Otherwise, if no element is equal to the target element, then return -1 as the element is not found."
   ]
  },
  {
   "cell_type": "markdown",
   "metadata": {},
   "source": [
    "Given an array, arr of n integers, and an integer element x, find whether element x is present in the array. Return the index of the first occurrence of x in the array, or -1 if it doesn’t exist.\n",
    "\n",
    "Input: arr[] = [1, 2, 3, 4], x = 3\n",
    "\n",
    "Output: 2\n",
    "\n",
    "Explanation: There is one test case with array as [1, 2, 3 4] and element to be searched as 3. Since 3 is present at index 2, the\n",
    "\n",
    "output is 2.\n",
    "\n",
    "\n",
    "Input: arr[] = [10, 8, 30, 4, 5], x = 5\n",
    "\n",
    "Output: 4\n",
    "\n",
    "Explanation: For array [1, 2, 3, 4, 5], the element to be searched is 5 and it is at index 4. So, the output is 4.\n",
    "\n",
    "\n",
    "Input: arr[] = [10, 8, 30], x = 6\n",
    "\n",
    "Output: -1\n",
    "\n",
    "Explanation: The element to be searched is 6 and its not present, so we return -1."
   ]
  },
  {
   "cell_type": "markdown",
   "metadata": {},
   "source": [
    "pseudocode\n",
    "\n",
    "LinearSearch(arr, target):\n",
    "\n",
    "    for each element in arr:\n",
    "\n",
    "        if element == target:\n",
    "\n",
    "            return index\n",
    "\n",
    "    return -1"
   ]
  },
  {
   "cell_type": "code",
   "execution_count": 1,
   "metadata": {},
   "outputs": [],
   "source": [
    "#### Python Implementation\n",
    "def linear_search(arr, target):\n",
    "    for i in range(len(arr)):\n",
    "        if arr[i] == target:\n",
    "            return i  # Found, return index\n",
    "        else:\n",
    "           return -1  # Not found"
   ]
  },
  {
   "cell_type": "code",
   "execution_count": 2,
   "metadata": {},
   "outputs": [
    {
     "name": "stdout",
     "output_type": "stream",
     "text": [
      "Element found at index: -1\n"
     ]
    }
   ],
   "source": [
    "# practical Example Usage\n",
    "arr = [10, 20, 30, 40, 50]\n",
    "target = 30\n",
    "result = linear_search(arr, target)\n",
    "print(\"Element found at index:\", result)"
   ]
  },
  {
   "cell_type": "markdown",
   "metadata": {},
   "source": [
    "# Time and Space Complexity of Linear Search Algorithm:"
   ]
  },
  {
   "cell_type": "markdown",
   "metadata": {},
   "source": [
    "                                Time Complexity\n",
    "\n",
    "Best Case: In the best case, the key might be present at the first index. So the best case complexity is O(1)\n",
    "\n",
    "Worst Case: In the worst case, the key might be present at the last index i.e., opposite to the end from which the search has started in the list. So the worst-case complexity is O(N) where N is the size of the list.\n",
    "\n",
    "Average Case: O(N) \n",
    "\n",
    "\n"
   ]
  },
  {
   "cell_type": "markdown",
   "metadata": {},
   "source": [
    "## Advantages of Linear Search Algorithm\n",
    "\n",
    "Linear search can be used irrespective of whether the array is sorted or not. It can be used on arrays of any data type.\n",
    "\n",
    "Does not require any additional memory.\n",
    "\n",
    "It is a well-suited algorithm for small datasets.\n",
    "\n",
    "## Disadvantages of Linear Search Algorithm\n",
    "\n",
    "Linear search has a time complexity of O(N), which in turn makes it slow for large datasets.\n",
    "\n",
    "Not suitable for large arrays."
   ]
  },
  {
   "cell_type": "markdown",
   "metadata": {},
   "source": [
    "## Applications of Linear Search Algorithm\n",
    "Unsorted Lists: When we have an unsorted array or list, linear search is most commonly used to find any element in the collection.\n",
    "\n",
    "Small Data Sets: Linear Search is preferred over binary search when we have small data sets with\n",
    "\n",
    "Searching Linked Lists: In linked list implementations, linear search is commonly used to find elements within the list. Each node is\n",
    " checked sequentially until the desired element is found.\n",
    "\n",
    "Simple Implementation: Linear Search is much easier to understand and implement as compared to Binary Search or Ternary Search.\n",
    "\n",
    "## When to use Linear Search Algorithm?\n",
    "\n",
    "When we are dealing with a small dataset.\n",
    "\n",
    "When you are searching for a dataset stored in contiguous memory.\n",
    "\n",
    "\n",
    "## When Not to Use\n",
    "\n",
    "Avoid for large lists; use Binary Search instead if sorted."
   ]
  },
  {
   "cell_type": "markdown",
   "metadata": {},
   "source": [
    "## Binary Search\n",
    "\n",
    "this is used in a sorted array by repeatedly dividing the search interval in half. The idea of binary search is to use the information that the array is sorted and reduce the time complexity to O(log N). "
   ]
  },
  {
   "cell_type": "markdown",
   "metadata": {},
   "source": [
    "the step-by-step algorithm for Binary Search:\n",
    "\n",
    "Divide the search space into two halves by finding the middle index “mid”.\n",
    "\n",
    "Compare the middle element of the search space with the key.\n",
    "\n",
    "If the key is found at middle element, the process is terminated.\n",
    "\n",
    "If the key is not found at middle element, choose which half will be used as the next search space.\n",
    "\n",
    "If the key is smaller than the middle element, then the left side is used for next search.\n",
    "\n",
    "If the key is larger than the middle element, then the right side is used for next search.\n",
    "\n",
    "This process is continued until the key is found or the total search space is exhausted.\n",
    "\n",
    "\n",
    "Pseudocode\n",
    "```\n",
    "BinarySearch(arr, target):\n",
    "    low = 0, high = length(arr) - 1\n",
    "    while low <= high:\n",
    "        mid = (low + high) / 2\n",
    "        if arr[mid] == target:\n",
    "            return mid\n",
    "        elif arr[mid] < target:\n",
    "            low = mid + 1\n",
    "        else:\n",
    "            high = mid - 1\n",
    "    return -1"
   ]
  },
  {
   "cell_type": "markdown",
   "metadata": {},
   "source": [
    "Code Implementation"
   ]
  },
  {
   "cell_type": "code",
   "execution_count": 3,
   "metadata": {},
   "outputs": [
    {
     "name": "stdout",
     "output_type": "stream",
     "text": [
      "Element is present at index 3\n",
      "Element is present at index 3\n"
     ]
    }
   ],
   "source": [
    "# Python 3 program for recursive binary search.\n",
    "# Modifications needed for the older Python 2 are found in comments.\n",
    "\n",
    "# Returns index of x in arr if present, else -1\n",
    "def binary_search(arr, low, high, x):\n",
    "\n",
    "    # Check base case\n",
    "    if high >= low:\n",
    "\n",
    "        mid = (high + low) // 2\n",
    "\n",
    "        # If element is present at the middle itself\n",
    "        if arr[mid] == x:\n",
    "            return mid\n",
    "\n",
    "        # If element is smaller than mid, then it can only\n",
    "        # be present in left subarray\n",
    "        elif arr[mid] > x:\n",
    "            return binary_search(arr, low, mid - 1, x)\n",
    "\n",
    "        # Else the element can only be present in right subarray\n",
    "        else:\n",
    "            return binary_search(arr, mid + 1, high, x)\n",
    "\n",
    "    else:\n",
    "        # Element is not present in the array\n",
    "        return -1\n",
    "\n",
    "# Test array\n",
    "arr = [ 2, 3, 4, 10, 40 ]\n",
    "x = 10\n",
    "\n",
    "# Function call\n",
    "result = binary_search(arr, 0, len(arr)-1, x)\n",
    "\n",
    "if result != -1:\n",
    "    print(\"Element is present at index\", str(result))\n",
    "else:\n",
    "    print(\"Element is not present in array\")\n",
    "# Python 3 program for recursive binary search.\n",
    "# Modifications needed for the older Python 2 are found in comments.\n",
    "\n",
    "# Returns index of x in arr if present, else -1\n",
    "def binary_search(arr, low, high, x):\n",
    "\n",
    "    # Check base case\n",
    "    if high >= low:\n",
    "\n",
    "        mid = (high + low) // 2\n",
    "\n",
    "        # If element is present at the middle itself\n",
    "        if arr[mid] == x:\n",
    "            return mid\n",
    "\n",
    "        # If element is smaller than mid, then it can only\n",
    "        # be present in left subarray\n",
    "        elif arr[mid] > x:\n",
    "            return binary_search(arr, low, mid - 1, x)\n",
    "\n",
    "        # Else the element can only be present in right subarray\n",
    "        else:\n",
    "            return binary_search(arr, mid + 1, high, x)\n",
    "\n",
    "    else:\n",
    "        # Element is not present in the array\n",
    "        return -1\n",
    "\n",
    "# Test array\n",
    "arr = [ 2, 3, 4, 10, 40 ]\n",
    "x = 10\n",
    "\n",
    "# Function call\n",
    "result = binary_search(arr, 0, len(arr)-1, x)\n",
    "\n",
    "if result != -1:\n",
    "    print(\"Element is present at index\", str(result))\n",
    "else:\n",
    "    print(\"Element is not present in array\")\n"
   ]
  },
  {
   "cell_type": "markdown",
   "metadata": {},
   "source": [
    "### Time Complexity analysis\n",
    "\n",
    "Time Complexity Analysis\n",
    "- Best-case: **O(1)** (if the middle element is the target)\n",
    "- Worst-case: **O(log n)**\n",
    "- Average-case: **O(log n)**\n"
   ]
  },
  {
   "cell_type": "markdown",
   "metadata": {},
   "source": [
    "#### Advantages and Disadvantages\n",
    "**Advantages:** Faster than Linear Search for sorted lists.  \n",
    "**Disadvantages:** Requires a sorted list.\n",
    "\n",
    "#### When to Use\n",
    "Use when the list is sorted.\n",
    "\n",
    "#### When Not to Use\n",
    "Avoid for unsorted lists unless sorting it first is feasible.\n",
    "\n",
    "---"
   ]
  },
  {
   "cell_type": "markdown",
   "metadata": {},
   "source": [
    " ## Sorting Algorithms\n",
    " A Sorting Algorithm is used to rearrange a given array or list of elements in an order. Sorting is provided in library implementation of most of the programming languages.\n",
    "\n",
    "  #### Bubble Sort\n",
    "Bubble Sort works by repeatedly swapping the adjacent elements if they are in the wrong order.\n",
    "  \n",
    "This algorithm is not suitable for large data sets as its average and worst-case time complexity are quite high.\n",
    "\n",
    "Pseudocode\n",
    "```\n",
    "BubbleSort(arr):\n",
    "    for i from 0 to length(arr)-1:\n",
    "        for j from 0 to length(arr)-i-1:\n",
    "            if arr[j] > arr[j+1]:\n",
    "                swap(arr[j], arr[j+1])"
   ]
  },
  {
   "cell_type": "code",
   "execution_count": 4,
   "metadata": {},
   "outputs": [
    {
     "name": "stdout",
     "output_type": "stream",
     "text": [
      "Sorted array:\n",
      "11 12 22 25 34 64 90 "
     ]
    }
   ],
   "source": [
    "# Python program for implementation of Bubble Sort\n",
    "def bubbleSort(arr):\n",
    "    n = len(arr)\n",
    "    \n",
    "    # Traverse through all array elements\n",
    "    for i in range(n):\n",
    "        swapped = False\n",
    "\n",
    "        # Last i elements are already in place\n",
    "        for j in range(0, n-i-1):\n",
    "\n",
    "            # Traverse the array from 0 to n-i-1\n",
    "            # Swap if the element found is greater\n",
    "            # than the next element\n",
    "            if arr[j] > arr[j+1]:\n",
    "                arr[j], arr[j+1] = arr[j+1], arr[j]\n",
    "                swapped = True\n",
    "        if (swapped == False):\n",
    "            break\n",
    "\n",
    "# Driver code to test above\n",
    "if __name__ == \"__main__\":\n",
    "    arr = [64, 34, 25, 12, 22, 11, 90]\n",
    "\n",
    "    bubbleSort(arr)\n",
    "\n",
    "    print(\"Sorted array:\")\n",
    "    for i in range(len(arr)):\n",
    "        print(\"%d\" % arr[i], end=\" \")\n"
   ]
  },
  {
   "cell_type": "markdown",
   "metadata": {},
   "source": [
    "Time Complexity Analysis\n",
    "- Best-case: **O(n)** (if already sorted)\n",
    "- Worst-case: **O(n²)**\n",
    "- Average-case: **O(n²)**\n",
    "\n",
    "#### Advantages of Bubble Sort:\n",
    "\n",
    "Bubble sort is easy to understand and implement.\n",
    "\n",
    "It does not require any additional memory space.\n",
    "\n",
    "It is a stable sorting algorithm, meaning that elements with the same key value maintain their relative order in the sorted output.\n",
    "\n",
    "#### Disadvantages of Bubble Sort:\n",
    "\n",
    "Bubble sort has a time complexity of O(n2) which makes it very slow for large data sets.\n",
    "\n",
    "Bubble sort has almost no or limited real world applications. It is mostly used in academics to teach different ways of sorting.\n",
    "\n",
    "#### When to Use\n",
    "When simplicity is more important than efficiency.\n",
    "\n",
    "#### When Not to Use\n",
    "Avoid for large datasets.\n"
   ]
  },
  {
   "cell_type": "markdown",
   "metadata": {},
   "source": [
    "## Insertion Sort \n",
    "Insertion sort is a simple sorting algorithm that works by iteratively inserting each element of an unsorted list into its correct position in a sorted portion of the list. It is like sorting playing cards in your hands. You split the cards into two groups: the sorted cards and the unsorted cards. Then, you pick a card from the unsorted group and put it in the right place in the sorted group.\n",
    "\n",
    "\n",
    "#### Pseudocode\n",
    "```\n",
    "InsertionSort(arr):\n",
    "    for i from 1 to length(arr)-1:\n",
    "        key = arr[i]\n",
    "        j = i - 1\n",
    "        while j >= 0 and arr[j] > key:\n",
    "            arr[j+1] = arr[j]\n",
    "            j = j - 1\n",
    "        arr[j+1] = key\n",
    "```\n",
    "\n"
   ]
  },
  {
   "cell_type": "code",
   "execution_count": 5,
   "metadata": {},
   "outputs": [
    {
     "name": "stdout",
     "output_type": "stream",
     "text": [
      "Sorted array: [11, 12, 22, 25, 34, 64, 90]\n"
     ]
    }
   ],
   "source": [
    "#### Python Implementation\n",
    "def insertion_sort(arr):\n",
    "    for i in range(1, len(arr)):\n",
    "        key = arr[i]\n",
    "        j = i - 1\n",
    "        while j >= 0 and arr[j] > key:\n",
    "            arr[j + 1] = arr[j]\n",
    "            j -= 1\n",
    "        arr[j + 1] = key\n",
    "\n",
    "# Example Usage\n",
    "arr = [64, 34, 25, 12, 22, 11, 90]\n",
    "insertion_sort(arr)\n",
    "print(\"Sorted array:\", arr)"
   ]
  },
  {
   "cell_type": "markdown",
   "metadata": {},
   "source": [
    "### Time Complexity of Insertion Sort\n",
    "\n",
    "Best case: O(n), If the list is already sorted, where n is the number of elements in the list.\n",
    "\n",
    "Average case: O(n2), If the list is randomly ordered\n",
    "\n",
    "Worst case: O(n2), If the list is in reverse order\n",
    "\n",
    "#### Advantages of Insertion Sort\n",
    "Simple and easy to implement.\n",
    "\n",
    "Stable sorting algorithm.\n",
    "\n",
    "Efficient for small lists and nearly sorted lists.\n",
    "\n",
    "Space-efficient as it is an in-place algorithm.\n",
    "\n",
    "Adoptive. the number of inversions is directly proportional to number of swaps. For example, no swapping happens for a sorted array and it takes O(n) time only.\n",
    "#### Disadvantages of Insertion Sort:\n",
    "Inefficient for large lists.\n",
    "\n",
    "Not as efficient as other sorting algorithms (e.g., merge sort, quick sort) for most cases.\n",
    "\n",
    "\n",
    "#### When to Use\n",
    "Useful for nearly sorted data.\n",
    "\n",
    "#### When Not to Use\n",
    "Avoid for large datasets"
   ]
  },
  {
   "cell_type": "markdown",
   "metadata": {},
   "source": [
    "### Selection Sort\n",
    "\n",
    "Selection Sort is a comparison-based sorting algorithm. It sorts an array by repeatedly selecting the smallest (or largest) element from the unsorted portion and swapping it with the first unsorted element. This process continues until the entire array is sorted.\n",
    "\n",
    "\n",
    "#### Pseudocode\n",
    "```\n",
    "SelectionSort(arr):\n",
    "    for i from 0 to length(arr)-1:\n",
    "        min_idx = i\n",
    "        for j from i+1 to length(arr):\n",
    "            if arr[j] < arr[min_idx]:\n",
    "                min_idx = j\n",
    "        swap(arr[i], arr[min_idx])\n",
    "```\n"
   ]
  },
  {
   "cell_type": "code",
   "execution_count": 6,
   "metadata": {},
   "outputs": [
    {
     "name": "stdout",
     "output_type": "stream",
     "text": [
      "Original array: 64 25 12 22 11 \n",
      "Sorted array: 11 12 22 25 64 \n"
     ]
    }
   ],
   "source": [
    "# Python program for implementation of Selection\n",
    "# Sort\n",
    "\n",
    "def selection_sort(arr):\n",
    "    n = len(arr)\n",
    "    for i in range(n - 1):\n",
    "      \n",
    "        # Assume the current position holds\n",
    "        # the minimum element\n",
    "        min_idx = i\n",
    "        \n",
    "        # Iterate through the unsorted portion\n",
    "        # to find the actual minimum\n",
    "        for j in range(i + 1, n):\n",
    "            if arr[j] < arr[min_idx]:\n",
    "              \n",
    "                # Update min_idx if a smaller element is found\n",
    "                min_idx = j\n",
    "        \n",
    "        # Move minimum element to its\n",
    "        # correct position\n",
    "        arr[i], arr[min_idx] = arr[min_idx], arr[i]\n",
    "\n",
    "def print_array(arr):\n",
    "    for val in arr:\n",
    "        print(val, end=\" \")\n",
    "    print()\n",
    "\n",
    "if __name__ == \"__main__\":\n",
    "    arr = [64, 25, 12, 22, 11]\n",
    "    \n",
    "    print(\"Original array: \", end=\"\")\n",
    "    print_array(arr)\n",
    "    \n",
    "    selection_sort(arr)\n",
    "    \n",
    "    print(\"Sorted array: \", end=\"\")\n",
    "    print_array(arr)\n"
   ]
  },
  {
   "cell_type": "markdown",
   "metadata": {},
   "source": [
    "###   time Complexity: O(n2) ,as there are two nested loops:\n",
    "\n",
    "One loop to select an element of Array one by one = O(n)\n",
    "\n",
    "Another loop to compare that element with every other Array element = O(n)\n",
    "\n",
    "Therefore overall complexity = O(n) * O(n) = O(n*n) = O(n2)\n",
    "\n",
    "#### Advantages of Selection Sort\n",
    "\n",
    "Easy to understand and implement, making it ideal for teaching basic sorting concepts.\n",
    "\n",
    "Requires only a constant O(1) extra memory space.\n",
    "\n",
    "It requires less number of swaps (or memory writes) compared to many other standard algorithms. Only cycle sort beats it in terms of memory writes. Therefore it can be simple algorithm choice when memory writes are costly.\n",
    "\n",
    "#### Disadvantages of the Selection Sort\n",
    "\n",
    "Selection sort has a time complexity of O(n^2) makes it slower compared to algorithms like Quick Sort or Merge Sort.\n",
    "\n",
    "Does not maintain the relative order of equal elements which means it is not stable.\n",
    "\n",
    "#### Applications of Selection Sort\n",
    "Perfect for teaching fundamental sorting mechanisms and algorithm design.\n",
    "\n",
    "Suitable for small lists where the overhead of more complex algorithms isn’t justified and memory writing is costly as it requires less memory writes compared to other standard sorting algorithms.\n",
    "\n",
    "Heap Sort algorithm is based on Selection Sort."
   ]
  },
  {
   "cell_type": "markdown",
   "metadata": {},
   "source": [
    "### Quicksort\n",
    "\n",
    "QuickSort is a sorting algorithm based on the Divide and Conquer that picks an element as a pivot and partitions the given array around the picked pivot by placing the pivot in its correct position in the sorted array.\n",
    "\n",
    "#### Pseudocode\n",
    "```\n",
    "Quicksort(arr):\n",
    "    if length(arr) <= 1:\n",
    "        return arr\n",
    "    pivot = arr[length(arr) // 2]\n",
    "    left = [x for x in arr if x < pivot]\n",
    "    middle = [x for x in arr if x == pivot]\n",
    "    right = [x for x in arr if x > pivot]\n",
    "    return Quicksort(left) + middle + Quicksort(right)\n",
    "```\n",
    "#### Complexity Analysis of Quick Sort\n",
    "\n",
    "Time Complexity\n",
    "\n",
    "Best Case: (Ω(n log n)), Occurs when the pivot element divides the array into two equal halves.\n",
    "\n",
    "Average Case (θ(n log n)), On average, the pivot divides the array into two parts, but not necessarily equal.\n",
    "\n",
    "Worst Case: (O(n²)), Occurs when the smallest or largest element is always chosen as the pivot (e.g., sorted arrays).\n",
    "\n",
    "\n",
    "####  Advantages of Quick Sort\n",
    "\n",
    "It is a divide-and-conquer algorithm that makes it easier to solve problems.\n",
    "\n",
    "It is efficient on large data sets.\n",
    "\n",
    "It has a low overhead, as it only requires a small amount of memory to function.\n",
    "\n",
    "It is Cache Friendly as we work on the same array to sort and do not copy data to any auxiliary array.\n",
    "\n",
    "Fastest general purpose algorithm for large data when stability is not required.\n",
    "\n",
    "It is tail recursive and hence all the tail call optimization can be done.\n",
    "\n",
    "#### Disadvantages of Quick Sort\n",
    "It has a worst-case time complexity of O(n2), which occurs when the pivot is chosen poorly.\n",
    "\n",
    "It is not a good choice for small data sets.\n",
    "\n",
    "It is not a stable sort, meaning that if two elements have the same key, their relative order will not be preserved in the sorted output in case of quick sort, because here we are swapping elements according to the pivot’s position (without considering their original positions).\n",
    "\n",
    "#### Applications of Quick Sort\n",
    "Efficient for sorting large datasets with O(n log n) average-case time complexity.\n",
    "\n",
    "Used in partitioning problems like finding the kth smallest element or dividing arrays by pivot.\n",
    "\n",
    "Integral to randomized algorithms, offering better performance than deterministic approaches.\n",
    "\n",
    "Applied in cryptography for generating random permutations and unpredictable encryption keys.\n",
    "\n",
    "Partitioning step can be parallelized for improved performance in multi-core or distributed systems.\n",
    "\n",
    "Important in theoretical computer science for analyzing average-case complexity and developing new techniques."
   ]
  },
  {
   "cell_type": "markdown",
   "metadata": {},
   "source": [
    "### merge sort algorithm\n",
    " Merge sort is a sorting algorithm that follows the divide-and-conquer approach. It works by recursively dividing the input array into smaller subarrays and sorting those subarrays then merging them back together to obtain the sorted array.\n",
    "\n",
    "#### Pseudocode\n",
    "```\n",
    "MergeSort(arr):\n",
    "    if length(arr) > 1:\n",
    "        mid = length(arr) // 2\n",
    "        left_half = arr[:mid]\n",
    "        right_half = arr[mid:]\n",
    "\n",
    "        MergeSort(left_half)\n",
    "        MergeSort(right_half)\n",
    "\n",
    "        merge left_half and right_half into arr\n",
    "```\n",
    "\"\"\""
   ]
  },
  {
   "cell_type": "code",
   "execution_count": null,
   "metadata": {},
   "outputs": [],
   "source": []
  },
  {
   "cell_type": "markdown",
   "metadata": {},
   "source": [
    "#### Time Complexity:\n",
    "\n",
    "Best Case: O(n log n), When the array is already sorted or nearly sorted.\n",
    "\n",
    "Average Case: O(n log n), When the array is randomly ordered.\n",
    "\n",
    "Worst Case: O(n log n), When the array is sorted in reverse order.\n",
    "\n",
    "\n",
    "#### Advantages\n",
    "\n",
    "Stability : Merge sort is a stable sorting algorithm, which means it maintains the relative order of equal elements in the input array.\n",
    "\n",
    "Guaranteed worst-case performance: Merge sort has a worst-case time complexity of O(N logN) , which means it performs well even on large datasets.\n",
    "\n",
    "Simple to implement: The divide-and-conquer approach is straightforward.\n",
    "\n",
    "Naturally Parallel : We independently merge subarrays that makes it suitable for parallel processing.\n",
    "\n",
    "#### Disadvantages\n",
    "\n",
    "Space complexity: Merge sort requires additional memory to store the merged sub-arrays during the sorting process.\n",
    "\n",
    "Not in-place: Merge sort is not an in-place sorting algorithm, which means it requires additional memory to store the sorted data.\n",
    "\n",
    "This can be a disadvantage in applications where memory usage is a concern.\n",
    "\n",
    "Merge Sort is Slower than QuickSort in general as QuickSort is more cache friendly because it works in-place.\n",
    "Quick Links:"
   ]
  }
 ],
 "metadata": {
  "kernelspec": {
   "display_name": "Python 3",
   "language": "python",
   "name": "python3"
  },
  "language_info": {
   "codemirror_mode": {
    "name": "ipython",
    "version": 3
   },
   "file_extension": ".py",
   "mimetype": "text/x-python",
   "name": "python",
   "nbconvert_exporter": "python",
   "pygments_lexer": "ipython3",
   "version": "3.12.7"
  }
 },
 "nbformat": 4,
 "nbformat_minor": 2
}
